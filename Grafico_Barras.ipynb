{
  "nbformat": 4,
  "nbformat_minor": 0,
  "metadata": {
    "colab": {
      "name": "Grafico_Barras.ipynb",
      "provenance": [],
      "authorship_tag": "ABX9TyOGBIOK+iX3qd14SrH4R9eG",
      "include_colab_link": true
    },
    "kernelspec": {
      "name": "python3",
      "display_name": "Python 3"
    },
    "language_info": {
      "name": "python"
    }
  },
  "cells": [
    {
      "cell_type": "markdown",
      "metadata": {
        "id": "view-in-github",
        "colab_type": "text"
      },
      "source": [
        "<a href=\"https://colab.research.google.com/github/AlanGomes107/Py/blob/main/Grafico_Barras.ipynb\" target=\"_parent\"><img src=\"https://colab.research.google.com/assets/colab-badge.svg\" alt=\"Open In Colab\"/></a>"
      ]
    },
    {
      "cell_type": "code",
      "metadata": {
        "id": "7YcwI9sgs59k"
      },
      "source": [
        "from matplotlib import pyplot as plt\n",
        "import numpy as np"
      ],
      "execution_count": 1,
      "outputs": []
    },
    {
      "cell_type": "code",
      "metadata": {
        "id": "QIXoeutxs6A5"
      },
      "source": [
        "# Quantidade de vendas para o Produto A\n",
        "valores_produto_A = [6, 7, 8, 4, 4]"
      ],
      "execution_count": 2,
      "outputs": []
    },
    {
      "cell_type": "code",
      "metadata": {
        "id": "VNomFmVzs6DX"
      },
      "source": [
        "# Quantidade de vendas para o Produto B\n",
        "valores_produto_B = [3, 12, 3, 4.1, 6]"
      ],
      "execution_count": 3,
      "outputs": []
    },
    {
      "cell_type": "code",
      "metadata": {
        "id": "Bu3rjqAss6GQ"
      },
      "source": [
        "# Cria eixo x para produto A e produto B com uma separação de 0.25 entre as barras\n",
        "x1 =  np.arange(len(valores_produto_A))\n",
        "x2 = [x + 0.25 for x in x1]"
      ],
      "execution_count": 4,
      "outputs": []
    },
    {
      "cell_type": "code",
      "metadata": {
        "id": "YVGx2APnFg56",
        "colab": {
          "base_uri": "https://localhost:8080/",
          "height": 282
        },
        "outputId": "2fe0b2d8-0e7a-429a-d5c5-438fec527d7d"
      },
      "source": [
        "# Plota as barras\n",
        "plt.bar(x1, valores_produto_A, width=0.25, label = 'Produto A', color = 'deepskyblue')\n",
        "plt.bar(x2, valores_produto_B, width=0.25, label = 'Produto B', color = 'mediumseagreen')"
      ],
      "execution_count": 5,
      "outputs": [
        {
          "output_type": "execute_result",
          "data": {
            "text/plain": [
              "<BarContainer object of 5 artists>"
            ]
          },
          "metadata": {},
          "execution_count": 5
        },
        {
          "output_type": "display_data",
          "data": {
            "image/png": "[encoded data removed]",
            "text/plain": [
              "<Figure size 432x288 with 1 Axes>"
            ]
          },
          "metadata": {
            "needs_background": "light"
          }
        }
      ]
    },
    {
      "cell_type": "code",
      "metadata": {
        "colab": {
          "base_uri": "https://localhost:8080/",
          "height": 439
        },
        "id": "uxvQfjYbXbEJ",
        "outputId": "a33492ec-8e8e-4460-d371-d2caa569cce4"
      },
      "source": [
        "# Coloca o nome dos meses como label do eixo x\n",
        "meses = ['Agosto','Setembro','Outubro','Novembro','Dezembro']\n",
        "plt.xticks([x + 0.25 for x in range(len(valores_produto_A))], meses)"
      ],
      "execution_count": 12,
      "outputs": [
        {
          "output_type": "execute_result",
          "data": {
            "text/plain": [
              "([<matplotlib.axis.XTick at 0x7f800f2cb510>,\n",
              "  <matplotlib.axis.XTick at 0x7f800f2cb4d0>,\n",
              "  <matplotlib.axis.XTick at 0x7f800f2cb090>,\n",
              "  <matplotlib.axis.XTick at 0x7f800f268f90>,\n",
              "  <matplotlib.axis.XTick at 0x7f800f274590>],\n",
              " [Text(0, 0, 'Agosto'),\n",
              "  Text(0, 0, 'Setembro'),\n",
              "  Text(0, 0, 'Outubro'),\n",
              "  Text(0, 0, 'Novembro'),\n",
              "  Text(0, 0, 'Dezembro')])"
            ]
          },
          "metadata": {},
          "execution_count": 12
        },
        {
          "output_type": "display_data",
          "data": {
            "image/png": "[encoded data removed]",
            "text/plain": [
              "<Figure size 432x288 with 1 Axes>"
            ]
          },
          "metadata": {
            "needs_background": "light"
          }
        }
      ]
    },
    {
      "cell_type": "code",
      "metadata": {
        "colab": {
          "base_uri": "https://localhost:8080/",
          "height": 303
        },
        "id": "AVBpS5-TXbG3",
        "outputId": "54c23cfd-e4a8-46cf-b642-9b6f29a09c33"
      },
      "source": [
        "# Insere uma legenda no gráfico\n",
        "plt.legend()"
      ],
      "execution_count": 14,
      "outputs": [
        {
          "output_type": "stream",
          "name": "stderr",
          "text": [
            "No handles with labels found to put in legend.\n"
          ]
        },
        {
          "output_type": "execute_result",
          "data": {
            "text/plain": [
              "<matplotlib.legend.Legend at 0x7f800f1b1b90>"
            ]
          },
          "metadata": {},
          "execution_count": 14
        },
        {
          "output_type": "display_data",
          "data": {
            "image/png": "[encoded data removed]",
            "text/plain": [
              "<Figure size 432x288 with 1 Axes>"
            ]
          },
          "metadata": {
            "needs_background": "light"
          }
        }
      ]
    },
    {
      "cell_type": "code",
      "metadata": {
        "colab": {
          "base_uri": "https://localhost:8080/",
          "height": 281
        },
        "id": "OUBE16UuXbJq",
        "outputId": "71cd44b4-a2a2-4220-968d-d7e5c859ba0f"
      },
      "source": [
        "plt.title(\"Quantidade de Vendas\")\n",
        "plt.show()"
      ],
      "execution_count": 17,
      "outputs": [
        {
          "output_type": "display_data",
          "data": {
            "image/png": "[encoded data removed]",
            "text/plain": [
              "<Figure size 432x288 with 1 Axes>"
            ]
          },
          "metadata": {
            "needs_background": "light"
          }
        }
      ]
    },
    {
      "cell_type": "markdown",
      "metadata": {
        "id": "OEnLn6lwZQMw"
      },
      "source": [
        "# ***Resultado***"
      ]
    },
    {
      "cell_type": "code",
      "metadata": {
        "colab": {
          "base_uri": "https://localhost:8080/",
          "height": 281
        },
        "id": "Ji1Ll75rXbPA",
        "outputId": "19e5f995-60f1-4c1c-c70e-63b065a44456"
      },
      "source": [
        "plt.bar(x1, valores_produto_A, width=0.25, label = 'Produto A', color = 'deepskyblue')\n",
        "plt.bar(x2, valores_produto_B, width=0.25, label = 'Produto B', color = 'mediumseagreen')\n",
        "meses = ['Agosto','Setembro','Outubro','Novembro','Dezembro']\n",
        "plt.xticks([x + 0.25 for x in range(len(valores_produto_A))], meses)\n",
        "plt.legend()\n",
        "plt.title(\"Quantidade de Vendas\")\n",
        "plt.show()"
      ],
      "execution_count": 16,
      "outputs": [
        {
          "output_type": "display_data",
          "data": {
            "image/png": "[encoded data removed]",
            "text/plain": [
              "<Figure size 432x288 with 1 Axes>"
            ]
          },
          "metadata": {
            "needs_background": "light"
          }
        }
      ]
    },
    {
      "cell_type": "code",
      "metadata": {
        "id": "gR0otGSpXbRe"
      },
      "source": [
        ""
      ],
      "execution_count": null,
      "outputs": []
    },
    {
      "cell_type": "code",
      "metadata": {
        "id": "liIiBSTkXbUi"
      },
      "source": [
        ""
      ],
      "execution_count": null,
      "outputs": []
    },
    {
      "cell_type": "code",
      "metadata": {
        "id": "txTsb7FlXbXf"
      },
      "source": [
        ""
      ],
      "execution_count": null,
      "outputs": []
    }
  ]
}