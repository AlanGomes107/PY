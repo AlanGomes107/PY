{
  "nbformat": 4,
  "nbformat_minor": 0,
  "metadata": {
    "colab": {
      "name": "Python_01.ipynb",
      "provenance": [],
      "authorship_tag": "ABX9TyMPJLXW5oadysBOo6tl581m",
      "include_colab_link": true
    },
    "kernelspec": {
      "name": "python3",
      "display_name": "Python 3"
    },
    "language_info": {
      "name": "python"
    }
  },
  "cells": [
    {
      "cell_type": "markdown",
      "metadata": {
        "id": "view-in-github",
        "colab_type": "text"
      },
      "source": [
        "<a href=\"https://colab.research.google.com/github/AlanGomes107/Py/blob/main/Python_01.ipynb\" target=\"_parent\"><img src=\"https://colab.research.google.com/assets/colab-badge.svg\" alt=\"Open In Colab\"/></a>"
      ]
    },
    {
      "cell_type": "markdown",
      "metadata": {
        "id": "poOEG61O2avR"
      },
      "source": [
        "# ***Condicionais***"
      ]
    },
    {
      "cell_type": "code",
      "metadata": {
        "colab": {
          "base_uri": "https://localhost:8080/"
        },
        "id": "UPg6J5YW07lu",
        "outputId": "4b60148d-fb37-45f4-8a66-c4d1bc91bb6e"
      },
      "source": [
        "temperatura = 35\n",
        "\n",
        "if (temperatura > 30):\n",
        "    print('Hoje está muito quente!')"
      ],
      "execution_count": 1,
      "outputs": [
        {
          "output_type": "stream",
          "name": "stdout",
          "text": [
            "Hoje está muito quente!\n"
          ]
        }
      ]
    },
    {
      "cell_type": "code",
      "metadata": {
        "id": "eo1_3HQA2WXx"
      },
      "source": [
        "temperatura = 25\n",
        "\n",
        "if (temperatura > 30):\n",
        "    print('Hoje está muito quente!')"
      ],
      "execution_count": 2,
      "outputs": []
    },
    {
      "cell_type": "code",
      "metadata": {
        "colab": {
          "base_uri": "https://localhost:8080/"
        },
        "id": "B2YkWLPk2Wao",
        "outputId": "426db251-a2a6-4be9-f3ba-10348b480789"
      },
      "source": [
        "temperatura = 25\n",
        "\n",
        "if (temperatura > 30):\n",
        "    print('Hoje está muito quente!')\n",
        "else:\n",
        "    print('A temperatura está agradável!')"
      ],
      "execution_count": 3,
      "outputs": [
        {
          "output_type": "stream",
          "name": "stdout",
          "text": [
            "A temperatura está agradável!\n"
          ]
        }
      ]
    },
    {
      "cell_type": "code",
      "metadata": {
        "colab": {
          "base_uri": "https://localhost:8080/"
        },
        "id": "Mb61kY_r2Wdw",
        "outputId": "d7f98630-29e9-4467-fb68-fd6584419a79"
      },
      "source": [
        "temperatura = 25\n",
        "\n",
        "if (temperatura > 30):\n",
        "    print('Hoje está muito quente!')\n",
        "elif (temperatura > 25):\n",
        "    print('A temperatura está agradável!')\n",
        "elif (temperatura > 15):\n",
        "    print('O tempo está mudando!')\n",
        "else:\n",
        "    print('Que friaca!')"
      ],
      "execution_count": 4,
      "outputs": [
        {
          "output_type": "stream",
          "name": "stdout",
          "text": [
            "O tempo está mudando!\n"
          ]
        }
      ]
    },
    {
      "cell_type": "code",
      "metadata": {
        "colab": {
          "base_uri": "https://localhost:8080/"
        },
        "id": "5cspDBGs2Wgp",
        "outputId": "9566497e-978d-4b9d-ba87-c21fc1e2717a"
      },
      "source": [
        "temperatura = 25\n",
        "\n",
        "if (temperatura > 30):\n",
        "    print('Hoje está muito quente!')\n",
        "elif (temperatura >= 25):\n",
        "    print('A temperatura está agradável!')\n",
        "elif (temperatura > 15):\n",
        "    print('O tempo está mudando!')\n",
        "else:\n",
        "    print('Que friaca!')"
      ],
      "execution_count": 5,
      "outputs": [
        {
          "output_type": "stream",
          "name": "stdout",
          "text": [
            "A temperatura está agradável!\n"
          ]
        }
      ]
    },
    {
      "cell_type": "markdown",
      "metadata": {
        "id": "m4ei7YNh2xWL"
      },
      "source": [
        "# ***Estruturas de repetição - For***\n"
      ]
    },
    {
      "cell_type": "code",
      "metadata": {
        "colab": {
          "base_uri": "https://localhost:8080/"
        },
        "id": "T94-Obv12WjY",
        "outputId": "b44ac30c-5016-4080-fac7-694cde748faf"
      },
      "source": [
        "frutas = ['abacate', 'pera', 'abacaxi']\n",
        "\n",
        "for elemento in frutas:\n",
        "    print(elemento)"
      ],
      "execution_count": 6,
      "outputs": [
        {
          "output_type": "stream",
          "name": "stdout",
          "text": [
            "abacate\n",
            "pera\n",
            "abacaxi\n"
          ]
        }
      ]
    },
    {
      "cell_type": "code",
      "metadata": {
        "colab": {
          "base_uri": "https://localhost:8080/"
        },
        "id": "-lRCMC_12WmQ",
        "outputId": "cc949e07-27e7-49f4-b86e-c8a31a0b02c7"
      },
      "source": [
        "frutas = ['abacate', 'pera', 'abacaxi']\n",
        "\n",
        "for elemento in frutas:\n",
        "    if elemento.startswith('a'):\n",
        "        print(elemento)"
      ],
      "execution_count": 8,
      "outputs": [
        {
          "output_type": "stream",
          "name": "stdout",
          "text": [
            "abacate\n",
            "abacaxi\n"
          ]
        }
      ]
    },
    {
      "cell_type": "code",
      "metadata": {
        "colab": {
          "base_uri": "https://localhost:8080/"
        },
        "id": "gRkaHTzI2Woy",
        "outputId": "10e21881-89d8-4201-c270-49f7fb924059"
      },
      "source": [
        "lista_num = [1,2,3,4,5]\n",
        "soma = 0\n",
        "\n",
        "for numero in lista_num:\n",
        "    soma = soma + numero\n",
        "    print(soma)"
      ],
      "execution_count": 9,
      "outputs": [
        {
          "output_type": "stream",
          "name": "stdout",
          "text": [
            "1\n",
            "3\n",
            "6\n",
            "10\n",
            "15\n"
          ]
        }
      ]
    },
    {
      "cell_type": "code",
      "metadata": {
        "colab": {
          "base_uri": "https://localhost:8080/"
        },
        "id": "LeoWPz4t2Wrg",
        "outputId": "4ab8c9e3-afd1-4618-9fa9-9b460923aef6"
      },
      "source": [
        "lista_num = [1,2,3,4,5]\n",
        "soma = 0\n",
        "\n",
        "for numero in lista_num:\n",
        "    soma = soma + numero\n",
        "print(soma)"
      ],
      "execution_count": 10,
      "outputs": [
        {
          "output_type": "stream",
          "name": "stdout",
          "text": [
            "15\n"
          ]
        }
      ]
    },
    {
      "cell_type": "markdown",
      "metadata": {
        "id": "LvTyvxQf3L6_"
      },
      "source": [
        "# *While*"
      ]
    },
    {
      "cell_type": "code",
      "metadata": {
        "colab": {
          "base_uri": "https://localhost:8080/"
        },
        "id": "Q6398lFq3IYf",
        "outputId": "d095647a-52f5-4cae-a44d-f88922c9fe61"
      },
      "source": [
        "condicao = 1\n",
        "soma = 0\n",
        "\n",
        "while condicao <= 5:\n",
        "    soma = soma + condicao\n",
        "    condicao = condicao + 1\n",
        "    print(soma)"
      ],
      "execution_count": 11,
      "outputs": [
        {
          "output_type": "stream",
          "name": "stdout",
          "text": [
            "1\n",
            "3\n",
            "6\n",
            "10\n",
            "15\n"
          ]
        }
      ]
    },
    {
      "cell_type": "code",
      "metadata": {
        "colab": {
          "base_uri": "https://localhost:8080/"
        },
        "id": "6BAK6sdh3IbX",
        "outputId": "cefa6de4-e344-4410-b1f4-2a9221e1a8b0"
      },
      "source": [
        "condicao = 1\n",
        "soma = 0\n",
        "\n",
        "while condicao <= 5:\n",
        "    soma = soma + condicao\n",
        "    condicao = condicao + 1\n",
        "    print(condicao)\n",
        "    break"
      ],
      "execution_count": 12,
      "outputs": [
        {
          "output_type": "stream",
          "name": "stdout",
          "text": [
            "2\n"
          ]
        }
      ]
    },
    {
      "cell_type": "markdown",
      "metadata": {
        "id": "hrVqKwVX3VH5"
      },
      "source": [
        "# ***Numpy***"
      ]
    },
    {
      "cell_type": "code",
      "metadata": {
        "id": "VhDOmMbL3IeX"
      },
      "source": [
        "import numpy as np"
      ],
      "execution_count": 13,
      "outputs": []
    },
    {
      "cell_type": "code",
      "metadata": {
        "colab": {
          "base_uri": "https://localhost:8080/"
        },
        "id": "jzQDcszO3Ig7",
        "outputId": "bef548d3-19a1-4ed7-be7a-ab07a86dba65"
      },
      "source": [
        "np.array([1,2,3])"
      ],
      "execution_count": 14,
      "outputs": [
        {
          "output_type": "execute_result",
          "data": {
            "text/plain": [
              "array([1, 2, 3])"
            ]
          },
          "metadata": {},
          "execution_count": 14
        }
      ]
    },
    {
      "cell_type": "code",
      "metadata": {
        "colab": {
          "base_uri": "https://localhost:8080/"
        },
        "id": "CX5P-pfC3IkJ",
        "outputId": "7b3df20b-47e4-4203-e4e7-005dc7f9d8e4"
      },
      "source": [
        "np.array([[1,2,3],[4,5,6]])"
      ],
      "execution_count": 15,
      "outputs": [
        {
          "output_type": "execute_result",
          "data": {
            "text/plain": [
              "array([[1, 2, 3],\n",
              "       [4, 5, 6]])"
            ]
          },
          "metadata": {},
          "execution_count": 15
        }
      ]
    },
    {
      "cell_type": "code",
      "metadata": {
        "colab": {
          "base_uri": "https://localhost:8080/"
        },
        "id": "da9z8XNp2WuI",
        "outputId": "5f2ffe1b-47b4-4196-cc98-efc4f09f50d3"
      },
      "source": [
        "np.array([[[1,2,3],[4,5,6]],[[1,2,3],[4,5,6]]])"
      ],
      "execution_count": 16,
      "outputs": [
        {
          "output_type": "execute_result",
          "data": {
            "text/plain": [
              "array([[[1, 2, 3],\n",
              "        [4, 5, 6]],\n",
              "\n",
              "       [[1, 2, 3],\n",
              "        [4, 5, 6]]])"
            ]
          },
          "metadata": {},
          "execution_count": 16
        }
      ]
    },
    {
      "cell_type": "code",
      "metadata": {
        "id": "LaEoenll2WxN"
      },
      "source": [
        "a = np.array([[[1,2,3],[4,5,6]],[[1,2,3],[4,5,6]]])"
      ],
      "execution_count": 17,
      "outputs": []
    },
    {
      "cell_type": "code",
      "metadata": {
        "colab": {
          "base_uri": "https://localhost:8080/"
        },
        "id": "95iH6Hju3kM6",
        "outputId": "69d679d8-5147-4f41-ada1-844d4fb5279f"
      },
      "source": [
        "type(a)"
      ],
      "execution_count": 18,
      "outputs": [
        {
          "output_type": "execute_result",
          "data": {
            "text/plain": [
              "numpy.ndarray"
            ]
          },
          "metadata": {},
          "execution_count": 18
        }
      ]
    },
    {
      "cell_type": "code",
      "metadata": {
        "colab": {
          "base_uri": "https://localhost:8080/"
        },
        "id": "11xkQlU93kSY",
        "outputId": "abae824b-87a6-4985-9023-a1917e3f6567"
      },
      "source": [
        "a.shape"
      ],
      "execution_count": 19,
      "outputs": [
        {
          "output_type": "execute_result",
          "data": {
            "text/plain": [
              "(2, 2, 3)"
            ]
          },
          "metadata": {},
          "execution_count": 19
        }
      ]
    },
    {
      "cell_type": "code",
      "metadata": {
        "id": "ZeI2YIP33kVR"
      },
      "source": [
        "b = np.array([[1,2,3],[4,5,6]])"
      ],
      "execution_count": 20,
      "outputs": []
    },
    {
      "cell_type": "code",
      "metadata": {
        "colab": {
          "base_uri": "https://localhost:8080/"
        },
        "id": "VJVTqsZ_3kYD",
        "outputId": "0b03aec6-24a7-429a-ff62-a2ec043a7264"
      },
      "source": [
        "b.shape"
      ],
      "execution_count": 21,
      "outputs": [
        {
          "output_type": "execute_result",
          "data": {
            "text/plain": [
              "(2, 3)"
            ]
          },
          "metadata": {},
          "execution_count": 21
        }
      ]
    },
    {
      "cell_type": "code",
      "metadata": {
        "colab": {
          "base_uri": "https://localhost:8080/"
        },
        "id": "96IOWclx3kao",
        "outputId": "2a98216e-d5ba-4bfe-c6aa-147b515e8baa"
      },
      "source": [
        "len(a)"
      ],
      "execution_count": 22,
      "outputs": [
        {
          "output_type": "execute_result",
          "data": {
            "text/plain": [
              "2"
            ]
          },
          "metadata": {},
          "execution_count": 22
        }
      ]
    },
    {
      "cell_type": "code",
      "metadata": {
        "colab": {
          "base_uri": "https://localhost:8080/"
        },
        "id": "bllWUdjy3kd4",
        "outputId": "ec4feb6d-2294-4fdd-81c4-a1fdfceb7590"
      },
      "source": [
        "len(b)"
      ],
      "execution_count": 23,
      "outputs": [
        {
          "output_type": "execute_result",
          "data": {
            "text/plain": [
              "2"
            ]
          },
          "metadata": {},
          "execution_count": 23
        }
      ]
    },
    {
      "cell_type": "code",
      "metadata": {
        "colab": {
          "base_uri": "https://localhost:8080/"
        },
        "id": "-BLDrX563zq5",
        "outputId": "aa36dc59-4637-4a74-ffca-af03b8c87263"
      },
      "source": [
        "a.ndim"
      ],
      "execution_count": 24,
      "outputs": [
        {
          "output_type": "execute_result",
          "data": {
            "text/plain": [
              "3"
            ]
          },
          "metadata": {},
          "execution_count": 24
        }
      ]
    },
    {
      "cell_type": "code",
      "metadata": {
        "colab": {
          "base_uri": "https://localhost:8080/"
        },
        "id": "jI1g35Zs3zts",
        "outputId": "3406d9bd-6d02-423a-a264-b6eee39dbd8a"
      },
      "source": [
        "b.ndim"
      ],
      "execution_count": 25,
      "outputs": [
        {
          "output_type": "execute_result",
          "data": {
            "text/plain": [
              "2"
            ]
          },
          "metadata": {},
          "execution_count": 25
        }
      ]
    },
    {
      "cell_type": "code",
      "metadata": {
        "colab": {
          "base_uri": "https://localhost:8080/"
        },
        "id": "jDyJWGG03zwp",
        "outputId": "4bdc2f83-b8a1-4c8e-a12b-06594cc80b7b"
      },
      "source": [
        "a.size"
      ],
      "execution_count": 26,
      "outputs": [
        {
          "output_type": "execute_result",
          "data": {
            "text/plain": [
              "12"
            ]
          },
          "metadata": {},
          "execution_count": 26
        }
      ]
    },
    {
      "cell_type": "code",
      "metadata": {
        "colab": {
          "base_uri": "https://localhost:8080/"
        },
        "id": "5vXVKQ5Y3zyu",
        "outputId": "8daaa2db-cbd9-42f8-b918-30e47def6411"
      },
      "source": [
        "b"
      ],
      "execution_count": 27,
      "outputs": [
        {
          "output_type": "execute_result",
          "data": {
            "text/plain": [
              "array([[1, 2, 3],\n",
              "       [4, 5, 6]])"
            ]
          },
          "metadata": {},
          "execution_count": 27
        }
      ]
    },
    {
      "cell_type": "code",
      "metadata": {
        "id": "9XEJvoNY3z1O"
      },
      "source": [
        "b2 = b.reshape(-1,1)"
      ],
      "execution_count": 28,
      "outputs": []
    },
    {
      "cell_type": "code",
      "metadata": {
        "colab": {
          "base_uri": "https://localhost:8080/"
        },
        "id": "II8a-TCG3z4L",
        "outputId": "87d90713-c4fc-4d3b-f09f-fe47d714a195"
      },
      "source": [
        "b2"
      ],
      "execution_count": 29,
      "outputs": [
        {
          "output_type": "execute_result",
          "data": {
            "text/plain": [
              "array([[1],\n",
              "       [2],\n",
              "       [3],\n",
              "       [4],\n",
              "       [5],\n",
              "       [6]])"
            ]
          },
          "metadata": {},
          "execution_count": 29
        }
      ]
    },
    {
      "cell_type": "code",
      "metadata": {
        "id": "Yn1H5wjc3z6v"
      },
      "source": [
        "a = np.array([[1,2],[3,4]])\n",
        "b = np.array([[1,2],[3,4]])"
      ],
      "execution_count": 30,
      "outputs": []
    },
    {
      "cell_type": "code",
      "metadata": {
        "colab": {
          "base_uri": "https://localhost:8080/"
        },
        "id": "i6Ggb7r64F1w",
        "outputId": "1f4eacf5-e3a9-403a-b8bb-2d48957519e9"
      },
      "source": [
        "a"
      ],
      "execution_count": 31,
      "outputs": [
        {
          "output_type": "execute_result",
          "data": {
            "text/plain": [
              "array([[1, 2],\n",
              "       [3, 4]])"
            ]
          },
          "metadata": {},
          "execution_count": 31
        }
      ]
    },
    {
      "cell_type": "code",
      "metadata": {
        "colab": {
          "base_uri": "https://localhost:8080/"
        },
        "id": "arNmz-764F4Z",
        "outputId": "b0a592a1-6876-4d8b-a88d-f6604407fea6"
      },
      "source": [
        "b"
      ],
      "execution_count": 32,
      "outputs": [
        {
          "output_type": "execute_result",
          "data": {
            "text/plain": [
              "array([[1, 2],\n",
              "       [3, 4]])"
            ]
          },
          "metadata": {},
          "execution_count": 32
        }
      ]
    },
    {
      "cell_type": "code",
      "metadata": {
        "colab": {
          "base_uri": "https://localhost:8080/"
        },
        "id": "6I30ElDR4F74",
        "outputId": "4bd2a938-0628-4bf9-989f-79debbca1025"
      },
      "source": [
        "a > b"
      ],
      "execution_count": 34,
      "outputs": [
        {
          "output_type": "execute_result",
          "data": {
            "text/plain": [
              "array([[False, False],\n",
              "       [False, False]])"
            ]
          },
          "metadata": {},
          "execution_count": 34
        }
      ]
    },
    {
      "cell_type": "code",
      "metadata": {
        "colab": {
          "base_uri": "https://localhost:8080/"
        },
        "id": "Y3adVYwv4F9z",
        "outputId": "9ea630e1-b653-42fe-8637-9b051c08fd0f"
      },
      "source": [
        "a < b"
      ],
      "execution_count": 35,
      "outputs": [
        {
          "output_type": "execute_result",
          "data": {
            "text/plain": [
              "array([[False, False],\n",
              "       [False, False]])"
            ]
          },
          "metadata": {},
          "execution_count": 35
        }
      ]
    },
    {
      "cell_type": "code",
      "metadata": {
        "colab": {
          "base_uri": "https://localhost:8080/"
        },
        "id": "UzOnMSj04GAd",
        "outputId": "d27cb431-65b0-478f-e591-aa351bef9104"
      },
      "source": [
        "a == b"
      ],
      "execution_count": 36,
      "outputs": [
        {
          "output_type": "execute_result",
          "data": {
            "text/plain": [
              "array([[ True,  True],\n",
              "       [ True,  True]])"
            ]
          },
          "metadata": {},
          "execution_count": 36
        }
      ]
    },
    {
      "cell_type": "code",
      "metadata": {
        "colab": {
          "base_uri": "https://localhost:8080/"
        },
        "id": "MTCxqVxH4GDR",
        "outputId": "9baa10f4-0c85-4b6a-938e-484492c38c59"
      },
      "source": [
        "a != b"
      ],
      "execution_count": 39,
      "outputs": [
        {
          "output_type": "stream",
          "name": "stderr",
          "text": [
            "/usr/local/lib/python3.7/dist-packages/ipykernel_launcher.py:1: FutureWarning: elementwise comparison failed; returning scalar instead, but in the future will perform elementwise comparison\n",
            "  \"\"\"Entry point for launching an IPython kernel.\n"
          ]
        },
        {
          "output_type": "execute_result",
          "data": {
            "text/plain": [
              "True"
            ]
          },
          "metadata": {},
          "execution_count": 39
        }
      ]
    },
    {
      "cell_type": "markdown",
      "metadata": {
        "id": "V0tS8H6Z4eNZ"
      },
      "source": [
        "# ***Concatenação***"
      ]
    },
    {
      "cell_type": "code",
      "metadata": {
        "id": "MiKx0rhb4GFv"
      },
      "source": [
        "a = np.array([1,2])\n",
        "b = np.array([3,4,5,6])\n",
        "c = np.array([7,8,9])"
      ],
      "execution_count": 40,
      "outputs": []
    },
    {
      "cell_type": "code",
      "metadata": {
        "colab": {
          "base_uri": "https://localhost:8080/"
        },
        "id": "hX3j8WNO4GI0",
        "outputId": "4111178c-2eec-49b9-db92-7e701e6f34c2"
      },
      "source": [
        "a"
      ],
      "execution_count": 41,
      "outputs": [
        {
          "output_type": "execute_result",
          "data": {
            "text/plain": [
              "array([1, 2])"
            ]
          },
          "metadata": {},
          "execution_count": 41
        }
      ]
    },
    {
      "cell_type": "code",
      "metadata": {
        "colab": {
          "base_uri": "https://localhost:8080/"
        },
        "id": "2dPGkhnQ4GLQ",
        "outputId": "6d2edd8a-e840-4874-dca9-e4090d8c279b"
      },
      "source": [
        "b"
      ],
      "execution_count": 42,
      "outputs": [
        {
          "output_type": "execute_result",
          "data": {
            "text/plain": [
              "array([3, 4, 5, 6])"
            ]
          },
          "metadata": {},
          "execution_count": 42
        }
      ]
    },
    {
      "cell_type": "code",
      "metadata": {
        "colab": {
          "base_uri": "https://localhost:8080/"
        },
        "id": "Xk5re6k84GO4",
        "outputId": "03d08727-fdaf-4bda-db8a-b901754b9610"
      },
      "source": [
        "c"
      ],
      "execution_count": 43,
      "outputs": [
        {
          "output_type": "execute_result",
          "data": {
            "text/plain": [
              "array([7, 8, 9])"
            ]
          },
          "metadata": {},
          "execution_count": 43
        }
      ]
    },
    {
      "cell_type": "code",
      "metadata": {
        "colab": {
          "base_uri": "https://localhost:8080/"
        },
        "id": "N5LM1N3D4GSG",
        "outputId": "ed066cc7-842b-4931-917a-c10f5fdaa428"
      },
      "source": [
        "np.concatenate([a,b])"
      ],
      "execution_count": 44,
      "outputs": [
        {
          "output_type": "execute_result",
          "data": {
            "text/plain": [
              "array([1, 2, 3, 4, 5, 6])"
            ]
          },
          "metadata": {},
          "execution_count": 44
        }
      ]
    },
    {
      "cell_type": "code",
      "metadata": {
        "id": "24HrZXC04pkJ"
      },
      "source": [
        "a = np.array([[1,2],[3,4]])\n",
        "b = np.array([[5,6],[7,8]])"
      ],
      "execution_count": 45,
      "outputs": []
    },
    {
      "cell_type": "code",
      "metadata": {
        "colab": {
          "base_uri": "https://localhost:8080/"
        },
        "id": "1H2iaXDd4pnR",
        "outputId": "9aa78270-61b2-4830-f91f-db4c347b3508"
      },
      "source": [
        "a"
      ],
      "execution_count": 46,
      "outputs": [
        {
          "output_type": "execute_result",
          "data": {
            "text/plain": [
              "array([[1, 2],\n",
              "       [3, 4]])"
            ]
          },
          "metadata": {},
          "execution_count": 46
        }
      ]
    },
    {
      "cell_type": "code",
      "metadata": {
        "colab": {
          "base_uri": "https://localhost:8080/"
        },
        "id": "uQeNP-4_4ppn",
        "outputId": "85444409-95ff-4627-c205-9d315d119a27"
      },
      "source": [
        "b"
      ],
      "execution_count": 47,
      "outputs": [
        {
          "output_type": "execute_result",
          "data": {
            "text/plain": [
              "array([[5, 6],\n",
              "       [7, 8]])"
            ]
          },
          "metadata": {},
          "execution_count": 47
        }
      ]
    },
    {
      "cell_type": "code",
      "metadata": {
        "colab": {
          "base_uri": "https://localhost:8080/"
        },
        "id": "44_IfvG_4psU",
        "outputId": "759c4391-d4a7-4ee7-a63f-31e8feea48e7"
      },
      "source": [
        "np.concatenate([a,b])"
      ],
      "execution_count": 48,
      "outputs": [
        {
          "output_type": "execute_result",
          "data": {
            "text/plain": [
              "array([[1, 2],\n",
              "       [3, 4],\n",
              "       [5, 6],\n",
              "       [7, 8]])"
            ]
          },
          "metadata": {},
          "execution_count": 48
        }
      ]
    },
    {
      "cell_type": "code",
      "metadata": {
        "colab": {
          "base_uri": "https://localhost:8080/"
        },
        "id": "7PyZdBIS4pvR",
        "outputId": "78f80f0f-e3ef-497c-8560-673ec3d62925"
      },
      "source": [
        "np.concatenate([a,b], axis=1)"
      ],
      "execution_count": 49,
      "outputs": [
        {
          "output_type": "execute_result",
          "data": {
            "text/plain": [
              "array([[1, 2, 5, 6],\n",
              "       [3, 4, 7, 8]])"
            ]
          },
          "metadata": {},
          "execution_count": 49
        }
      ]
    },
    {
      "cell_type": "code",
      "metadata": {
        "colab": {
          "base_uri": "https://localhost:8080/"
        },
        "id": "84lzWWwp409e",
        "outputId": "4dbd96c9-0879-4f8f-e230-051d18401017"
      },
      "source": [
        "np.concatenate([a,b], axis=0)"
      ],
      "execution_count": 50,
      "outputs": [
        {
          "output_type": "execute_result",
          "data": {
            "text/plain": [
              "array([[1, 2],\n",
              "       [3, 4],\n",
              "       [5, 6],\n",
              "       [7, 8]])"
            ]
          },
          "metadata": {},
          "execution_count": 50
        }
      ]
    },
    {
      "cell_type": "code",
      "metadata": {
        "colab": {
          "base_uri": "https://localhost:8080/"
        },
        "id": "GTM9u4A141Aa",
        "outputId": "6bbe4b9e-8fd1-43e4-8813-b48f2e188a9d"
      },
      "source": [
        "a = np.array([[1,2],[3,4]])\n",
        "b = np.array([[5,6],[7,8]])\n",
        "\n",
        "np.concatenate([a,b], axis=1)\n",
        "np.concatenate([a,b], axis=0)"
      ],
      "execution_count": 51,
      "outputs": [
        {
          "output_type": "execute_result",
          "data": {
            "text/plain": [
              "array([[1, 2],\n",
              "       [3, 4],\n",
              "       [5, 6],\n",
              "       [7, 8]])"
            ]
          },
          "metadata": {},
          "execution_count": 51
        }
      ]
    },
    {
      "cell_type": "code",
      "metadata": {
        "id": "q-yYGVGP41DO"
      },
      "source": [
        "a = np.array ([1,2,3,4])\n",
        "b = np.array ([5,6,7,8])"
      ],
      "execution_count": 52,
      "outputs": []
    },
    {
      "cell_type": "code",
      "metadata": {
        "colab": {
          "base_uri": "https://localhost:8080/"
        },
        "id": "1gnMkAv341Gp",
        "outputId": "6cc84a66-33ad-4e7b-91ee-256f932a1b25"
      },
      "source": [
        "np.concatenate([a,b])"
      ],
      "execution_count": 53,
      "outputs": [
        {
          "output_type": "execute_result",
          "data": {
            "text/plain": [
              "array([1, 2, 3, 4, 5, 6, 7, 8])"
            ]
          },
          "metadata": {},
          "execution_count": 53
        }
      ]
    },
    {
      "cell_type": "code",
      "metadata": {
        "id": "m2UbZWbr41JO"
      },
      "source": [
        "##fim"
      ],
      "execution_count": null,
      "outputs": []
    }
  ]
}