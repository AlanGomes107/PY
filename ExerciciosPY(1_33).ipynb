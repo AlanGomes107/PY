{
  "nbformat": 4,
  "nbformat_minor": 0,
  "metadata": {
    "colab": {
      "name": "ExerciciosPY(1-33).ipynb",
      "provenance": [],
      "authorship_tag": "ABX9TyNw9HehDcTzLRAO7a5yOfkX",
      "include_colab_link": true
    },
    "kernelspec": {
      "name": "python3",
      "display_name": "Python 3"
    },
    "language_info": {
      "name": "python"
    }
  },
  "cells": [
    {
      "cell_type": "markdown",
      "metadata": {
        "id": "view-in-github",
        "colab_type": "text"
      },
      "source": [
        "<a href=\"https://colab.research.google.com/github/AlanGomes107/teste/blob/main/ExerciciosPY(1_33).ipynb\" target=\"_parent\"><img src=\"https://colab.research.google.com/assets/colab-badge.svg\" alt=\"Open In Colab\"/></a>"
      ]
    },
    {
      "cell_type": "markdown",
      "metadata": {
        "id": "WORG7SlAYgmd"
      },
      "source": [
        "**Ex 001:Crie um programa que escreva: \"Olá, Mundo!\" na tela**"
      ]
    },
    {
      "cell_type": "code",
      "metadata": {
        "colab": {
          "base_uri": "https://localhost:8080/"
        },
        "id": "xmt77kJCYaz1",
        "outputId": "7d06b7b3-eadb-4f6a-95e0-f469f3b7165e"
      },
      "source": [
        "msg = 'Olá, Mundo!'\n",
        "print(msg)"
      ],
      "execution_count": null,
      "outputs": [
        {
          "output_type": "stream",
          "text": [
            "Olá, Mundo!\n"
          ],
          "name": "stdout"
        }
      ]
    },
    {
      "cell_type": "code",
      "metadata": {
        "id": "C3E1RAEJYf9F"
      },
      "source": [
        ""
      ],
      "execution_count": null,
      "outputs": []
    },
    {
      "cell_type": "markdown",
      "metadata": {
        "id": "VtrR1AeDZKnt"
      },
      "source": [
        "**Ex 002: Faça um programa que leia o nome de uma pessoas e mostre uma mensagem de boas vindas.**"
      ]
    },
    {
      "cell_type": "code",
      "metadata": {
        "colab": {
          "base_uri": "https://localhost:8080/"
        },
        "id": "PW9s8P-SYf_0",
        "outputId": "93bde6b0-f6b2-48d8-bb6e-fe03f8ad014b"
      },
      "source": [
        "nome = input('Digite seu nome: ')\n",
        "print('É um prazer te conhecer {}'.format(nome))"
      ],
      "execution_count": null,
      "outputs": [
        {
          "output_type": "stream",
          "text": [
            "Digite seu nome: 4545\n",
            "É um prazer te conhecer 4545\n"
          ],
          "name": "stdout"
        }
      ]
    },
    {
      "cell_type": "code",
      "metadata": {
        "id": "zHmjdveeYgCd"
      },
      "source": [
        ""
      ],
      "execution_count": null,
      "outputs": []
    },
    {
      "cell_type": "markdown",
      "metadata": {
        "id": "5Ybfe-2taGAN"
      },
      "source": [
        "**Ex 003: Crie um programa que leia dois numeros e mostre a soma entre elas.**"
      ]
    },
    {
      "cell_type": "code",
      "metadata": {
        "colab": {
          "base_uri": "https://localhost:8080/"
        },
        "id": "cijoEa4qYgFM",
        "outputId": "4366fd72-66c5-4810-9d6b-a3bb11ed9ab7"
      },
      "source": [
        "n1 = int(input('Digite um valor: '))\n",
        "n2 = int(input('Digite um valor: '))\n",
        "soma = n1 + n2\n",
        "print('A soma entre {} e {} é igual a {}'.format(n1, n2, soma))"
      ],
      "execution_count": null,
      "outputs": [
        {
          "output_type": "stream",
          "text": [
            "Digite um valor: 5\n",
            "Digite um valor: 8\n",
            "A soma entre 5 e 8 é igual a 13\n"
          ],
          "name": "stdout"
        }
      ]
    },
    {
      "cell_type": "code",
      "metadata": {
        "id": "b2AATGpSYgIA"
      },
      "source": [
        ""
      ],
      "execution_count": null,
      "outputs": []
    },
    {
      "cell_type": "markdown",
      "metadata": {
        "id": "Oa97f3FlbIX9"
      },
      "source": [
        "**Ex 004: Faça um programa que leia algo pelo teclado e mostre na tela o seu tipo primitivo e todas as informações possiveis sobre ele.**"
      ]
    },
    {
      "cell_type": "code",
      "metadata": {
        "colab": {
          "base_uri": "https://localhost:8080/"
        },
        "id": "Y8GOI4a8YgKZ",
        "outputId": "9ca91681-e0a4-45b0-f07b-9b904df81397"
      },
      "source": [
        "dado = input('Digite algo: ')\n",
        "print('O tipo primitivo desse valor é: ', type(dado))\n",
        "print('Só tem espaços? ', dado.isspace())\n",
        "print('É um numero? ', dado.isnumeric())\n",
        "print('É alfabetico? ', dado.isalpha())\n",
        "print('É alfanumerico? ', dado.isalnum())\n",
        "print('Está em maiusculas? ', dado.isupper())\n",
        "print('Está em minusculas? ', dado.islower())\n",
        "print('Está capitalizada? ', dado.istitle())"
      ],
      "execution_count": null,
      "outputs": [
        {
          "output_type": "stream",
          "text": [
            "Digite algo: ala\n",
            "O tipo primitivo desse valor é:  <class 'str'>\n",
            "Só tem espaços?  False\n",
            "É um numero?  False\n",
            "É alfabetico?  True\n",
            "É alfanumerico?  True\n",
            "Está em maiusculas?  False\n",
            "Está em minusculas?  True\n",
            "Está capitalizada?  False\n"
          ],
          "name": "stdout"
        }
      ]
    },
    {
      "cell_type": "code",
      "metadata": {
        "id": "9eXLAfWkbXms"
      },
      "source": [
        ""
      ],
      "execution_count": null,
      "outputs": []
    },
    {
      "cell_type": "markdown",
      "metadata": {
        "id": "tgi3Zbl8f71a"
      },
      "source": [
        "**Ex 005: Faça um programa que leia um numero inteiro e mostre na tela o seu sucessor e o seu antecessor**"
      ]
    },
    {
      "cell_type": "code",
      "metadata": {
        "colab": {
          "base_uri": "https://localhost:8080/"
        },
        "id": "z-K7GNMTbXpU",
        "outputId": "41bcddb8-6cfd-4b64-ee56-615d0f98e3f6"
      },
      "source": [
        "127**(1/3)\n",
        "\n",
        "\n"
      ],
      "execution_count": null,
      "outputs": [
        {
          "output_type": "execute_result",
          "data": {
            "text/plain": [
              "5.026525695313479"
            ]
          },
          "metadata": {
            "tags": []
          },
          "execution_count": 5
        }
      ]
    },
    {
      "cell_type": "code",
      "metadata": {
        "colab": {
          "base_uri": "https://localhost:8080/"
        },
        "id": "wWXo3JfIbXr-",
        "outputId": "73cba8c8-58d9-41c9-d631-9ebbc555d46b"
      },
      "source": [
        "n = int(input('Digite um valor: '))\n",
        "print('Analisando o valor {}, seu antecessor é {} e o sucessor é {}'.format(n, n-1, n+1))"
      ],
      "execution_count": null,
      "outputs": [
        {
          "output_type": "stream",
          "text": [
            "Digite um valor: 4\n",
            "Analisando o valor 4, seu antecessor é 3 e o sucessor é 5\n"
          ],
          "name": "stdout"
        }
      ]
    },
    {
      "cell_type": "code",
      "metadata": {
        "id": "VZ1AbqnybXur"
      },
      "source": [
        ""
      ],
      "execution_count": null,
      "outputs": []
    },
    {
      "cell_type": "markdown",
      "metadata": {
        "id": "bmniJdDhkiIP"
      },
      "source": [
        "**Ex 006: Crie um algoritimo que leia um numero e mostre o seu dobro, triplo e raiz quadrada.**"
      ]
    },
    {
      "cell_type": "code",
      "metadata": {
        "colab": {
          "base_uri": "https://localhost:8080/"
        },
        "id": "xVtEpzyVbXxU",
        "outputId": "dab1def7-7a1b-432f-cca7-022d26451c16"
      },
      "source": [
        "n = float(input('Digite um numero: '))\n",
        "d = n * 2\n",
        "t = n * 3\n",
        "r = n**(1/2)\n",
        "print('O dobro de {} é {} \\nO triplo de {} é {} \\nA raiz quadrada de {} é {:.2f}'.format(n, d, n, t, n, r))"
      ],
      "execution_count": null,
      "outputs": [
        {
          "output_type": "stream",
          "text": [
            "Digite um numero: 1\n",
            "O dobro de 1.0 é 2.0 \n",
            "O triplo de 1.0 é 3.0 \n",
            "A raiz quadrada de 1.0 é 1.00\n"
          ],
          "name": "stdout"
        }
      ]
    },
    {
      "cell_type": "code",
      "metadata": {
        "id": "ygSUteEHlETu"
      },
      "source": [
        ""
      ],
      "execution_count": null,
      "outputs": []
    },
    {
      "cell_type": "markdown",
      "metadata": {
        "id": "AygRoVdYm0mZ"
      },
      "source": [
        "**Ex 007: Desenvolva um programa que leia duas notas de um aluno, calcule e mostre a sua média**"
      ]
    },
    {
      "cell_type": "code",
      "metadata": {
        "colab": {
          "base_uri": "https://localhost:8080/"
        },
        "id": "NmL_nC9FlEXW",
        "outputId": "ea418ea8-36f0-46d0-c651-c53db351a950"
      },
      "source": [
        "nt1 = float(input('Digite a primeira nota: '))\n",
        "nt2 = float(input('Digite a segunda nota: '))\n",
        "med = (nt1 + nt2) / 2\n",
        "print('A média entre {:.2f} e {:.2f} é igual a {:.2f}'.format(nt1, nt2, med))"
      ],
      "execution_count": null,
      "outputs": [
        {
          "output_type": "stream",
          "text": [
            "Digite a primeira nota: 8\n",
            "Digite a segunda nota: 4\n",
            "A média entre 8.00 e 4.00 é igual a 6.00\n"
          ],
          "name": "stdout"
        }
      ]
    },
    {
      "cell_type": "code",
      "metadata": {
        "id": "Tvz_puEZlEa2"
      },
      "source": [
        ""
      ],
      "execution_count": null,
      "outputs": []
    },
    {
      "cell_type": "markdown",
      "metadata": {
        "id": "LH5g-42pn8pW"
      },
      "source": [
        "**Ex 008: Escreva um programa que leia um valor em metros e o exiba convertido em centimetros.**"
      ]
    },
    {
      "cell_type": "code",
      "metadata": {
        "colab": {
          "base_uri": "https://localhost:8080/"
        },
        "id": "0audaQKRlEd9",
        "outputId": "5bf29e7e-9a26-4a2d-b472-8e186b993eb7"
      },
      "source": [
        "dis = float(input('Digite uma distancia em metros: '))\n",
        "cm = dis * 100\n",
        "mm = dis * 1000\n",
        "print('A medida de {:.2f} corresponde a {:.2f}cm e {:.2f}mm'.format(dis, cm, mm))"
      ],
      "execution_count": null,
      "outputs": [
        {
          "output_type": "stream",
          "text": [
            "Digite uma distancia em metros: 45\n",
            "A medida de 45.00 corresponde a 4500.00cm e 45000.00mm\n"
          ],
          "name": "stdout"
        }
      ]
    },
    {
      "cell_type": "code",
      "metadata": {
        "id": "9_fmsmCjlEg3"
      },
      "source": [
        ""
      ],
      "execution_count": null,
      "outputs": []
    },
    {
      "cell_type": "markdown",
      "metadata": {
        "id": "qrFp_-DSyvlQ"
      },
      "source": [
        "**Ex 009: Faça um programa que leia um numero inteiro qualquer e mostre na tela a sua tabuada.**"
      ]
    },
    {
      "cell_type": "code",
      "metadata": {
        "colab": {
          "base_uri": "https://localhost:8080/"
        },
        "id": "QtSFeDr5lEj6",
        "outputId": "3373a2a3-2b8a-4b5e-8542-662e84fa8531"
      },
      "source": [
        "num = int(input('Digite um numero para ver sua tabuada: '))\n",
        "print('='*20)\n",
        "print('{} x {:2} = {}'.format(num, 1, num*1))\n",
        "print('{} x {:2} = {}'.format(num, 2, num*2))\n",
        "print('{} x {:2} = {}'.format(num, 3, num*3))\n",
        "print('{} x {:2} = {}'.format(num, 4, num*4))\n",
        "print('{} x {:2} = {}'.format(num, 5, num*5))\n",
        "print('{} x {:2} = {}'.format(num, 6, num*6))\n",
        "print('{} x {:2} = {}'.format(num, 7, num*7))\n",
        "print('{} x {:2} = {}'.format(num, 8, num*8))\n",
        "print('{} x {:2} = {}'.format(num, 9, num*9))\n",
        "print('{} x {:2} = {}'.format(num, 10, num*10))\n",
        "print('='*20)\n"
      ],
      "execution_count": null,
      "outputs": [
        {
          "output_type": "stream",
          "text": [
            "Digite um numero para ver sua tabuada: 8\n",
            "====================\n",
            "8 x  1 = 8\n",
            "8 x  2 = 16\n",
            "8 x  3 = 24\n",
            "8 x  4 = 32\n",
            "8 x  5 = 40\n",
            "8 x  6 = 48\n",
            "8 x  7 = 56\n",
            "8 x  8 = 64\n",
            "8 x  9 = 72\n",
            "8 x 10 = 80\n",
            "====================\n"
          ],
          "name": "stdout"
        }
      ]
    },
    {
      "cell_type": "code",
      "metadata": {
        "id": "s3Tz24LdlEms"
      },
      "source": [
        ""
      ],
      "execution_count": null,
      "outputs": []
    },
    {
      "cell_type": "markdown",
      "metadata": {
        "id": "bp9ooOLp0qv-"
      },
      "source": [
        "**Ex 010: Crie um programa que leia quanto dinheiro a pessoa tem na carteira e mostre quantos dolares ela pode comprar.\n",
        "Considere o valor US$ 1,00 = R$ 5,27**"
      ]
    },
    {
      "cell_type": "code",
      "metadata": {
        "id": "pTDaxksDbX0O",
        "colab": {
          "base_uri": "https://localhost:8080/"
        },
        "outputId": "2a128aef-0db1-4a63-8cd6-275d38abbe81"
      },
      "source": [
        "real = float(input('Quanto dinheiro voce tem na carteira? R$'))\n",
        "dolar = (real / 5.27)\n",
        "print('Com R$ {:.2f} voce pode comprar US$ {:.2f}'.format(real, dolar))"
      ],
      "execution_count": null,
      "outputs": [
        {
          "output_type": "stream",
          "text": [
            "Quanto dinheiro voce tem na carteira? R$400\n",
            "Com R$ 400.00 voce pode comprar US$ 75.90\n"
          ],
          "name": "stdout"
        }
      ]
    },
    {
      "cell_type": "code",
      "metadata": {
        "id": "0vtVYttZ08B1"
      },
      "source": [
        ""
      ],
      "execution_count": null,
      "outputs": []
    },
    {
      "cell_type": "markdown",
      "metadata": {
        "id": "U3dVNOzYBYhn"
      },
      "source": [
        "**EX 011: Faça um programa que leia a altura e a largura de uma parede em metros, calcule a sua area e a quantidade de tinta necessaria para pinta-la, sabendo que cada litro de tinta, pinta uma area de 2m².**  "
      ]
    },
    {
      "cell_type": "code",
      "metadata": {
        "id": "wtoA7K_A08FO",
        "colab": {
          "base_uri": "https://localhost:8080/"
        },
        "outputId": "db92bfaf-2504-419d-f9ba-75388753ad76"
      },
      "source": [
        "larg = float(input('Digite a largura da parede: '))\n",
        "alt = float(input('Digite a altura da parede: '))\n",
        "m2 = (larg * alt)\n",
        "print('Sua parede tem a dimensão de {:.2f} x {:.2f} e sua aerea é de {:.2f} \\nPara pintar essa parede, voçe precisará {:.1f}L de tinta'.format(larg, alt, m2, m2/2))\n",
        "      "
      ],
      "execution_count": null,
      "outputs": [
        {
          "output_type": "stream",
          "text": [
            "Digite a largura da parede: 3.85\n",
            "Digite a altura da parede: 6.45\n",
            "Sua parede tem a dimensão de 3.85 x 6.45 e sua aerea é de 24.83 \n",
            "Para pintar essa parede, voçe precisará 12.4 de tinta\n"
          ],
          "name": "stdout"
        }
      ]
    },
    {
      "cell_type": "code",
      "metadata": {
        "id": "clgpy7JM08I_"
      },
      "source": [
        "\n"
      ],
      "execution_count": null,
      "outputs": []
    },
    {
      "cell_type": "markdown",
      "metadata": {
        "id": "Aovod-FkErJU"
      },
      "source": [
        "**EX 012: Faça um alogoritmo que leia o preço de um produto e mostre seu novo preço , com 5% de desconto.**"
      ]
    },
    {
      "cell_type": "code",
      "metadata": {
        "id": "nqGkZsiq08L9",
        "colab": {
          "base_uri": "https://localhost:8080/"
        },
        "outputId": "33417c96-36fb-421d-aea4-8c24a27323c5"
      },
      "source": [
        "preco  = float(input('Qual o preço do produto? R$ '))\n",
        "desc = preco - (preco*5/100)\n",
        "print('O produto que custava R$ {}, na promoção com desconto de 5% vai custar R$ {:.2f}'.format(preco, desc))"
      ],
      "execution_count": null,
      "outputs": [
        {
          "output_type": "stream",
          "text": [
            "Qual o preço do produto? R$ 1456.45\n",
            "O produto que custava R$ 1456.45, na promoção com desconto de 5% vai custar R$ 1383.63\n"
          ],
          "name": "stdout"
        }
      ]
    },
    {
      "cell_type": "code",
      "metadata": {
        "id": "GjLDRwZtbX3G"
      },
      "source": [
        ""
      ],
      "execution_count": null,
      "outputs": []
    },
    {
      "cell_type": "markdown",
      "metadata": {
        "id": "IbwAOF41HzAa"
      },
      "source": [
        "**EX 13: Faça um algoritmo que leia o salario de seu funcionario e mostre seu novo salario, com 15% de aumento.**"
      ]
    },
    {
      "cell_type": "code",
      "metadata": {
        "id": "cPB-OJgfbX5X",
        "colab": {
          "base_uri": "https://localhost:8080/"
        },
        "outputId": "105a2691-59c9-41f0-da33-2697790540cd"
      },
      "source": [
        "sal = float(input('Qual é o salario do funcionario? R$ '))\n",
        "aum = sal + (sal*15/100)\n",
        "print('Um funcionario que ganhava R$ {}, com aumento de 15% , passa a receber R$ {:.2f}'.format(sal, aum))"
      ],
      "execution_count": null,
      "outputs": [
        {
          "output_type": "stream",
          "text": [
            "Qual é o salario do funcionario? R$ 1985.47\n",
            "Um funcionario que ganhava R$ 1985.47, com aumento de 15% , passa a receber R$ 2283.29\n"
          ],
          "name": "stdout"
        }
      ]
    },
    {
      "cell_type": "code",
      "metadata": {
        "id": "bNbT710tYgNC"
      },
      "source": [
        ""
      ],
      "execution_count": null,
      "outputs": []
    },
    {
      "cell_type": "markdown",
      "metadata": {
        "id": "ReseXaLwO60B"
      },
      "source": [
        "**EX 014: Escreva um programa que pergunte a quantidade de KM percorridos por um carro alugado. Calcule o preço a pagar, sabendo que o carro custa R$ 90 por dia e R$ 0,30 por Km rodado.**"
      ]
    },
    {
      "cell_type": "code",
      "metadata": {
        "id": "Kh6UPFprYgPd",
        "colab": {
          "base_uri": "https://localhost:8080/"
        },
        "outputId": "d87cc95b-11fd-43ce-9666-e62f991fa530"
      },
      "source": [
        "car = int(input('Quantos dias alugado? '))\n",
        "km = float(input('Quantos KMs rodados? '))\n",
        "vc = car * 90\n",
        "vk = km * 0.30\n",
        "print('O total a pagar é de R$ {:.2f}'.format(vc + vk))"
      ],
      "execution_count": null,
      "outputs": [
        {
          "output_type": "stream",
          "text": [
            "Quantos dias alugado? 3\n",
            "Quantos KMs rodados? 285\n",
            "O total a pagar é de R$ 355.50\n"
          ],
          "name": "stdout"
        }
      ]
    },
    {
      "cell_type": "code",
      "metadata": {
        "id": "U9ccTtobEpwW"
      },
      "source": [
        ""
      ],
      "execution_count": null,
      "outputs": []
    },
    {
      "cell_type": "markdown",
      "metadata": {
        "id": "6jHktINiUPPV"
      },
      "source": [
        "**EX 015: Crie um programa que leia um numero Real qualquer pelo teclado e mostre na tela a sua proção inteira**"
      ]
    },
    {
      "cell_type": "code",
      "metadata": {
        "colab": {
          "base_uri": "https://localhost:8080/"
        },
        "id": "VjU2RhR7EpzD",
        "outputId": "1d71f1c6-c627-405e-a4bc-cd0597931b94"
      },
      "source": [
        "import math\n",
        "num = float(input('Digite um valor: '))\n",
        "print('O valor digitado foi {} e a sua porção inteira é {}'.format(num, math.trunc(num)))\n"
      ],
      "execution_count": null,
      "outputs": [
        {
          "output_type": "stream",
          "text": [
            "Digite um valor: 4.45\n",
            "O valor digitado foi 4.45 e a sua porção inteira é 4\n"
          ],
          "name": "stdout"
        }
      ]
    },
    {
      "cell_type": "code",
      "metadata": {
        "id": "xOsM5bdVEp1v"
      },
      "source": [
        ""
      ],
      "execution_count": null,
      "outputs": []
    },
    {
      "cell_type": "markdown",
      "metadata": {
        "id": "5USPhYApVKZc"
      },
      "source": [
        "**Ex 016: Faça um programa que leia o comprimento do cateto oposto e do cateto adjacente de um triângulo retangulo, calcule e mostre o comprimento da hipotenusa**"
      ]
    },
    {
      "cell_type": "code",
      "metadata": {
        "colab": {
          "base_uri": "https://localhost:8080/"
        },
        "id": "w-tvLsBNEp42",
        "outputId": "2cf8b421-3223-4c8c-fda2-6d647273992e"
      },
      "source": [
        "co = float(input('Comprimento do cateto oposto: '))\n",
        "ca = float(input('Comprimento do cateto adjacente'))\n",
        "hi = (co ** 2 + ca ** 2) ** (1/2)\n",
        "print('A hipotenusa vai medir {:.3f}'.format(hi))"
      ],
      "execution_count": null,
      "outputs": [
        {
          "output_type": "stream",
          "text": [
            "Comprimento do cateto oposto: 3\n",
            "Comprimento do cateto adjacente3\n",
            "A hipotenusa vai medir 4.243\n"
          ],
          "name": "stdout"
        }
      ]
    },
    {
      "cell_type": "code",
      "metadata": {
        "colab": {
          "base_uri": "https://localhost:8080/"
        },
        "id": "fbWWe_uEEp7a",
        "outputId": "3afa5eb8-d869-48d0-ef58-607843046e54"
      },
      "source": [
        "import math\n",
        "co = float(input('Comprimento do cateto oposto: '))\n",
        "ca = float(input('Comprimento do cateto adjacente'))\n",
        "hi = math.hypot(co, ca)\n",
        "print('A hipotenusa vai medir {:.3f}'.format(hi))"
      ],
      "execution_count": null,
      "outputs": [
        {
          "output_type": "stream",
          "text": [
            "Comprimento do cateto oposto: 3\n",
            "Comprimento do cateto adjacente3\n",
            "A hipotenusa vai medir 4.243\n"
          ],
          "name": "stdout"
        }
      ]
    },
    {
      "cell_type": "code",
      "metadata": {
        "id": "4BgONW6sEp9r"
      },
      "source": [
        ""
      ],
      "execution_count": null,
      "outputs": []
    },
    {
      "cell_type": "markdown",
      "metadata": {
        "id": "NFo0QCwEXtc_"
      },
      "source": [
        "**EX 017: Faça um programa que leia um angulo qualquer e mostre na tela o valor de seno, cosseno e tangente desse angulo**"
      ]
    },
    {
      "cell_type": "code",
      "metadata": {
        "colab": {
          "base_uri": "https://localhost:8080/"
        },
        "id": "rskB8aOsEqAV",
        "outputId": "09bd754a-0e6c-424d-cc5d-d924c6ff8462"
      },
      "source": [
        "import math\n",
        "angulo = float(input('Digite o angulo que você deseja: '))\n",
        "seno = math.sin(math.radians(angulo))\n",
        "print('O angulo de {} tem o SENO de {:.2f}'.format(angulo, seno))\n",
        "cosseno = math.cos(math.radians(angulo))\n",
        "print('O angulo de {} tem o COSSENO de {:.2f}'.format(angulo, cosseno))\n",
        "tangente = math.tan(math.radians(angulo))\n",
        "print('O angulo de {} tem a TANGENTE de {:.2f}'.format(angulo, tangente))"
      ],
      "execution_count": null,
      "outputs": [
        {
          "output_type": "stream",
          "text": [
            "Digite o angulo que você deseja: 30\n",
            "O angulo de 30.0 tem o SENO de 0.50\n",
            "O angulo de 30.0 tem o COSSENO de 0.87\n",
            "O angulo de 30.0 tem a TANGENTE de 0.58\n"
          ],
          "name": "stdout"
        }
      ]
    },
    {
      "cell_type": "code",
      "metadata": {
        "id": "zlSb6u0VEqCu"
      },
      "source": [
        ""
      ],
      "execution_count": null,
      "outputs": []
    },
    {
      "cell_type": "markdown",
      "metadata": {
        "id": "mOOPCo1ujNtE"
      },
      "source": [
        "**EX 018: Um professor quer sortear um dos seus quatro alunos para apagar o quadro. Faça um programa que ajude ele, lendo o nome deles e escrevendo o nome do escolhido**"
      ]
    },
    {
      "cell_type": "code",
      "metadata": {
        "colab": {
          "base_uri": "https://localhost:8080/"
        },
        "id": "hsNv2ZXQEqFU",
        "outputId": "fe6e177e-bdae-4516-f85b-443ef385852f"
      },
      "source": [
        "import random\n",
        "n1 = input('Primeiro aluno: ')\n",
        "n2 = input('Segundo aluno: ')\n",
        "n3 = input('Terceiro aluno:  ')\n",
        "n4 = input('Quarto aluno: ')\n",
        "lista = [n1, n2, n3, n4]\n",
        "escolhido = random.choice(lista)\n",
        "print('O aluno escolhido foi {}'.format(escolhido))\n",
        "\n"
      ],
      "execution_count": null,
      "outputs": [
        {
          "output_type": "stream",
          "text": [
            "Primeiro aluno: a\n",
            "Segundo aluno: d\n",
            "Terceiro aluno:  w\n",
            "Quarto aluno: c\n",
            "O aluno escolhido foi w\n"
          ],
          "name": "stdout"
        }
      ]
    },
    {
      "cell_type": "code",
      "metadata": {
        "id": "awSO1GegEqIG"
      },
      "source": [
        ""
      ],
      "execution_count": null,
      "outputs": []
    },
    {
      "cell_type": "markdown",
      "metadata": {
        "id": "uLV6tKXall3j"
      },
      "source": [
        "**EX 019: O mesmo professor do exercicio anterior quer sortear a ordem de apresentação de trabalho dos alunos. Faça um programa que leia o nome dos quartos alunos e mostre a ordem sorteada**"
      ]
    },
    {
      "cell_type": "code",
      "metadata": {
        "colab": {
          "base_uri": "https://localhost:8080/"
        },
        "id": "RGah5LPIEqK9",
        "outputId": "174f450b-cb10-473a-aa29-c40658e5cf2d"
      },
      "source": [
        "import random\n",
        "n1 = input('Primeiro aluno: ')\n",
        "n2 = input('Segundo aluno: ')\n",
        "n3 = input('Terceiro aluno: ')\n",
        "n4 = input('Quarto aluni: ')\n",
        "lista = [n1, n2, n3, n4]\n",
        "random.shuffle(lista)\n",
        "print('A ordem de apresentação será: ')\n",
        "print(lista)"
      ],
      "execution_count": null,
      "outputs": [
        {
          "output_type": "stream",
          "text": [
            "Primeiro aluno: alan\n",
            "Segundo aluno: maria\n",
            "Terceiro aluno: amaral\n",
            "Quarto aluni: mateus\n",
            "A ordem de apresentação será: \n",
            "['maria', 'alan', 'amaral', 'mateus']\n"
          ],
          "name": "stdout"
        }
      ]
    },
    {
      "cell_type": "code",
      "metadata": {
        "id": "lXQuOFtvlkza"
      },
      "source": [
        ""
      ],
      "execution_count": null,
      "outputs": []
    },
    {
      "cell_type": "markdown",
      "metadata": {
        "id": "5dz35DpXnJ44"
      },
      "source": [
        "**EX 020: Crie um programa que leia o nome completo de uma pessoa e mostre:** \n",
        "**- O nome com todas as letras maiusculas e minusculas**\n",
        "**- Quantas letras ao todo (sem considerar espaços)**\n",
        "**- Quantas letras tem o primeiro nome** "
      ]
    },
    {
      "cell_type": "code",
      "metadata": {
        "colab": {
          "base_uri": "https://localhost:8080/"
        },
        "id": "oMxzJMRElk2P",
        "outputId": "b954dfd1-77e5-48f6-ca9a-ea20d6c3e855"
      },
      "source": [
        "nome = str(input('Digite seu nome completo: ')).strip()\n",
        "print('Analisando seu nome ...')\n",
        "print('Seu nome em maiúsculas é {}'.format(nome.upper()))\n",
        "print('Seu nome em minúsculas é {}'.format(nome.lower()))\n",
        "print('seu nome ao todo tem {} letras'.format(len(nome) - nome.count(' ')))\n",
        "print('Seu primeiro nomte tem {} letras'.format(nome.find(' ')))\n"
      ],
      "execution_count": null,
      "outputs": [
        {
          "output_type": "stream",
          "text": [
            "Digite seu nome completo: Alan Gomes Ferreira\n",
            "Analisando seu nome ...\n",
            "Seu nome em maiúsculas é ALAN GOMES FERREIRA\n",
            "Seu nome em minúsculas é alan gomes ferreira\n",
            "seu nome ao todo tem 17 letras\n",
            "Seu primeiro nomte tem 4 letras\n"
          ],
          "name": "stdout"
        }
      ]
    },
    {
      "cell_type": "code",
      "metadata": {
        "id": "PYSGEUT_lk4p"
      },
      "source": [
        ""
      ],
      "execution_count": null,
      "outputs": []
    },
    {
      "cell_type": "markdown",
      "metadata": {
        "id": "XzDtROxUIIXo"
      },
      "source": [
        "**EX 21: Faça um programa que leia um numero de 0 a 9999 e mostre na tela cada um dos digitos separados.**"
      ]
    },
    {
      "cell_type": "code",
      "metadata": {
        "id": "LkqXoJIklk8I",
        "colab": {
          "base_uri": "https://localhost:8080/"
        },
        "outputId": "1f6c19f0-ac3e-441d-cde6-5ee6343f7142"
      },
      "source": [
        "num = int(input('Digite um numero: '))\n",
        "u = num // 1 % 10\n",
        "d = num // 10 % 10\n",
        "c = num // 100 % 10\n",
        "m = num // 1000 % 10\n",
        "print('Analisando o numero {}'.format(num))\n",
        "print('Unidade: {}'.format(u))\n",
        "print('Dezena: {}'.format(d))\n",
        "print('Centena: {}'.format(c))\n",
        "print('Milhar: {}'.format(m))\n",
        "\n"
      ],
      "execution_count": 4,
      "outputs": [
        {
          "output_type": "stream",
          "text": [
            "Digite um numero: 112\n",
            "Analisando o numero 112\n",
            "Unidade: 2\n",
            "Dezena: 1\n",
            "Centena: 1\n",
            "Milhar: 0\n"
          ],
          "name": "stdout"
        }
      ]
    },
    {
      "cell_type": "code",
      "metadata": {
        "id": "OsE6xUrOIpIV"
      },
      "source": [
        ""
      ],
      "execution_count": null,
      "outputs": []
    },
    {
      "cell_type": "markdown",
      "metadata": {
        "id": "5OAI0ZriK110"
      },
      "source": [
        "**EX 22: Crie um programa que leia o nome de uma Cidade e diga se ela começa ou não com a palavra: \"SANTO\".**"
      ]
    },
    {
      "cell_type": "code",
      "metadata": {
        "colab": {
          "base_uri": "https://localhost:8080/"
        },
        "id": "EsHVWL_tIpLI",
        "outputId": "2f08b409-c2f1-4563-8581-b7c3f14531d6"
      },
      "source": [
        "cid = str(input('Em que cidade voçê nasceu: ')).strip()\n",
        "print(cid[0:5].upper() == 'SANTO')"
      ],
      "execution_count": 11,
      "outputs": [
        {
          "output_type": "stream",
          "text": [
            "Em que cidade voçê nasceu: sANto hihih\n",
            "True\n"
          ],
          "name": "stdout"
        }
      ]
    },
    {
      "cell_type": "code",
      "metadata": {
        "id": "EuFRGtCuIpNp"
      },
      "source": [
        ""
      ],
      "execution_count": null,
      "outputs": []
    },
    {
      "cell_type": "markdown",
      "metadata": {
        "id": "ikwWtPVfMMGu"
      },
      "source": [
        "**EX 023: Crie um programa que leia o nome de uma pessoa e diga se ela tem \"SILVA\" no nome.**"
      ]
    },
    {
      "cell_type": "code",
      "metadata": {
        "colab": {
          "base_uri": "https://localhost:8080/"
        },
        "id": "Qt6bVlj3IpRO",
        "outputId": "8e398f28-bc5c-4c52-b7be-05c6c67cf18c"
      },
      "source": [
        "nome = str(input('Qual é o seu nome?: ')).strip()\n",
        "print('Seu nome tem Silva? {}'.format('SILVA' in nome.upper())) "
      ],
      "execution_count": 14,
      "outputs": [
        {
          "output_type": "stream",
          "text": [
            "Qual é o seu nome?: alan sIlva\n",
            "Seu nome tem Silva? True\n"
          ],
          "name": "stdout"
        }
      ]
    },
    {
      "cell_type": "code",
      "metadata": {
        "id": "EsiMeT97IpTC"
      },
      "source": [
        ""
      ],
      "execution_count": null,
      "outputs": []
    },
    {
      "cell_type": "markdown",
      "metadata": {
        "id": "d_wiTTIXNkda"
      },
      "source": [
        "**EX 24: Faça um programa que leia um frase pelo teclado e mostre:**\n",
        "**- Quantas vezes aparece a letra \"A\".**\n",
        "**- Em que posição ela aparece a primeita vez.**\n",
        "**- Em que posição ela aparece a ultima vez.**"
      ]
    },
    {
      "cell_type": "code",
      "metadata": {
        "colab": {
          "base_uri": "https://localhost:8080/"
        },
        "id": "Fn3WrG5eIpVe",
        "outputId": "1944a9de-6635-49a8-95be-5e4d7484f830"
      },
      "source": [
        "frase = str(input('Digite uma frase: ')).upper().strip()\n",
        "print('A letra A aparece {} na frase.'.format(frase.count('A')))\n",
        "print('A primeira letra A apareceu na posição {}'.format(frase.find('A')+ 1))\n",
        "print('A ultima letra A apareceu na posição {}'.format(frase.rfind('A')+1))\n",
        "\n"
      ],
      "execution_count": 20,
      "outputs": [
        {
          "output_type": "stream",
          "text": [
            "Digite uma frase:     Arara Azul\n",
            "A letra A aparece 4 na frase.\n",
            "A primeira letra A apareceu na posição 1\n",
            "A ultima letra A apareceu na posição 7\n"
          ],
          "name": "stdout"
        }
      ]
    },
    {
      "cell_type": "code",
      "metadata": {
        "id": "7d5azOTSIpYk"
      },
      "source": [
        ""
      ],
      "execution_count": null,
      "outputs": []
    },
    {
      "cell_type": "markdown",
      "metadata": {
        "id": "lZ3l-38pQBTi"
      },
      "source": [
        "**EX 025: Faça um programa que leia o nome completo de uma pessoa, mostrando em seguida o primeiro e o ultimo nome separadamente.**"
      ]
    },
    {
      "cell_type": "code",
      "metadata": {
        "colab": {
          "base_uri": "https://localhost:8080/"
        },
        "id": "SjQk8mk9QAsr",
        "outputId": "4ee979ad-257e-40aa-a3c1-321c1de3ffda"
      },
      "source": [
        "n  = str(input('Digite seu nome completo: '))\n",
        "nome = n.split()\n",
        "print('Muito prazer em te conhecer')\n",
        "print('Seu primeiro nome é {}'.format(nome[0]))\n",
        "print('Seu ultimo nome é {}'.format(nome[len(nome)-1]))"
      ],
      "execution_count": 24,
      "outputs": [
        {
          "output_type": "stream",
          "text": [
            "Digite seu nome completo: Ana Pàula Dentro te Melo o REgo\n",
            "Muito prazer em te conhecer\n",
            "Seu primeiro nome é Ana\n",
            "Seu ultimo nome é REgo\n"
          ],
          "name": "stdout"
        }
      ]
    },
    {
      "cell_type": "code",
      "metadata": {
        "id": "xh0KsZjwQAvW"
      },
      "source": [
        ""
      ],
      "execution_count": null,
      "outputs": []
    },
    {
      "cell_type": "markdown",
      "metadata": {
        "id": "iLTvUfyPVkVI"
      },
      "source": [
        "**EX 026: Escreva um programa que faça o computador \"pensar\" em um numero inteiro entre 0 e 5 e peça para o usuario tentar descobrir qual foi o numero escolhido pelo computador. O programa deverá escrever na tela se o usuario venceu ou perdeu.**"
      ]
    },
    {
      "cell_type": "code",
      "metadata": {
        "colab": {
          "base_uri": "https://localhost:8080/"
        },
        "id": "XsF4J9wCQAxy",
        "outputId": "ee609677-285e-4457-bdd1-ad6c848fc0ec"
      },
      "source": [
        "from random import randint\n",
        "from time import  sleep\n",
        "pc = randint(0,5) # faz o computador \"pensar\"\n",
        "print('-=-' * 20)\n",
        "print('Vou pensar em um numero entre 0 e 5 tente advinhar. . .')\n",
        "print('-=-' * 20)\n",
        "jogador = int(input(' Em que numero eu pensei?: '))  # jogador tenta advinhar\n",
        "print('PROCESSANDO. . .')\n",
        "sleep(2)\n",
        "if jogador == pc: \n",
        "  print('Parabens! você conseguiu vencer ')\n",
        "else:\n",
        "  print('Ganhei! Eu pensei no numero {} e não no {}!'.format(pc, jogador))\n"
      ],
      "execution_count": 40,
      "outputs": [
        {
          "output_type": "stream",
          "text": [
            "-=--=--=--=--=--=--=--=--=--=--=--=--=--=--=--=--=--=--=--=-\n",
            "Vou pensar em um numero entre 0 e 5 tente advinhar. . .\n",
            "-=--=--=--=--=--=--=--=--=--=--=--=--=--=--=--=--=--=--=--=-\n",
            " Em que numero eu pensei?: 4\n",
            "PROCESSANDO. . .\n",
            "Ganhei! Eu pensei no numero 5 e não no 4!\n"
          ],
          "name": "stdout"
        }
      ]
    },
    {
      "cell_type": "code",
      "metadata": {
        "id": "MRTS8aIwQA0p"
      },
      "source": [
        ""
      ],
      "execution_count": null,
      "outputs": []
    },
    {
      "cell_type": "markdown",
      "metadata": {
        "id": "UszLpWGvYlvm"
      },
      "source": [
        "**EX 027: Escreva um programa que leia a velocidade de um carro. Se ele ultrapassar 80Km/h, mostre uma mensagem dizendo que ele foi multado. A multa vai custar R$ 7,00 por cada Km acima do limite.**"
      ]
    },
    {
      "cell_type": "code",
      "metadata": {
        "colab": {
          "base_uri": "https://localhost:8080/"
        },
        "id": "Zt1c8YZcQA4U",
        "outputId": "4a5e5794-5483-4936-8d14-6c86127da3c8"
      },
      "source": [
        "vel = float(input('Qual é a velocidade do carro?: '))\n",
        "if vel > 80:\n",
        "  print('MULTADO! Você excedeu o limite permitido que é de 80KM/h')\n",
        "  multa = (vel - 80) * 7\n",
        "  print('Você deve pagar uma multa de R$ {:.2f}'.format(multa))\n",
        "print('Tenha um bom dia, dirija com segurança')"
      ],
      "execution_count": 44,
      "outputs": [
        {
          "output_type": "stream",
          "text": [
            "Qual é a velocidade do carro?: 76\n",
            "Tenha um bom dia, dirija com segurança\n"
          ],
          "name": "stdout"
        }
      ]
    },
    {
      "cell_type": "code",
      "metadata": {
        "id": "V0EfNr6EQA6T"
      },
      "source": [
        ""
      ],
      "execution_count": null,
      "outputs": []
    },
    {
      "cell_type": "markdown",
      "metadata": {
        "id": "rky4K3QWak_I"
      },
      "source": [
        "**Ex 028: Crie um programa que leia um numero inteiro, e mostre na tela se ele é par ou ímpar**"
      ]
    },
    {
      "cell_type": "code",
      "metadata": {
        "colab": {
          "base_uri": "https://localhost:8080/"
        },
        "id": "OkgB8JRkQA9E",
        "outputId": "f84b99ba-203a-4c67-8111-8dee04b2cac8"
      },
      "source": [
        "num = int(input('Digite um número qualquer: '))\n",
        "resultado = num % 2\n",
        "if resultado == 0:\n",
        "  print('O numero {} é PAR'.format(num))\n",
        "else:\n",
        "  print('O numero {} é ÍMPAR'.format(num))  \n",
        "\n"
      ],
      "execution_count": 50,
      "outputs": [
        {
          "output_type": "stream",
          "text": [
            "Digite um número qualquer: 1555\n",
            "O numero 1555 é ÍMPAR\n"
          ],
          "name": "stdout"
        }
      ]
    },
    {
      "cell_type": "code",
      "metadata": {
        "id": "vt2tTJ3tIpZ9"
      },
      "source": [
        ""
      ],
      "execution_count": null,
      "outputs": []
    },
    {
      "cell_type": "markdown",
      "metadata": {
        "id": "Ar8sXzNScGcK"
      },
      "source": [
        "**EX 029: Desenvolva um programa que pergunte a distância de uma viagem em Km. Calcule o preço da passagem, cobrando R$ 0,50 por KM para viagens até 200Km e R$ 0,45 para viagens mais longas.**"
      ]
    },
    {
      "cell_type": "code",
      "metadata": {
        "colab": {
          "base_uri": "https://localhost:8080/"
        },
        "id": "QWVWUJ1zcFU9",
        "outputId": "644634fa-8f84-4593-909c-6d4a12085654"
      },
      "source": [
        "distancia = float(input(' Qual é a distancia da sua viagem? '))\n",
        "print('Você esta prestes a começar uma viagem de {} km'.format(distancia))\n",
        "if distancia <= 200:\n",
        "  preço = distancia * 0.50\n",
        "else:\n",
        "  preço = distancia * 0.45\n",
        "print('e o preço da sua passagem sera de R$ {:.2f}'.format(preço))    "
      ],
      "execution_count": 53,
      "outputs": [
        {
          "output_type": "stream",
          "text": [
            " Qual é a distancia da sua viagem? 385\n",
            "Você esta prestes a começar uma viagem de 385.0 km\n",
            "e o preço da sua passagem sera de R$ 173.25\n"
          ],
          "name": "stdout"
        }
      ]
    },
    {
      "cell_type": "code",
      "metadata": {
        "id": "xPP0B4CEcFYU"
      },
      "source": [
        ""
      ],
      "execution_count": null,
      "outputs": []
    },
    {
      "cell_type": "markdown",
      "metadata": {
        "id": "hSCvZRiZe0pe"
      },
      "source": [
        "**EX 030: Faça um programa que leia um ano qualquer e mostre se ele é bissexto.**"
      ]
    },
    {
      "cell_type": "code",
      "metadata": {
        "colab": {
          "base_uri": "https://localhost:8080/"
        },
        "id": "J9Or8GnicFb9",
        "outputId": "77a21923-8e48-4e51-87af-3ccd54eaedd4"
      },
      "source": [
        "from datetime import  date\n",
        "ano = int(input('Que ano você quer analisar? Coloque 0 para analisar o ano atual:  '))\n",
        "if ano == 0:\n",
        "  ano = date.today().year \n",
        "if ano % 4 == 0 and ano %100 != 0 or ano % 400 == 0:\n",
        "  print('O ano {} é bissexto'.format(ano))\n",
        "else:\n",
        "  print('O ano {} não é bissexto'.format(ano))\n",
        "\n"
      ],
      "execution_count": 63,
      "outputs": [
        {
          "output_type": "stream",
          "text": [
            "Que ano você quer analisar? Coloque 0 para analisar o ano atual:  0\n",
            "O ano 2021 não é bissexto\n"
          ],
          "name": "stdout"
        }
      ]
    },
    {
      "cell_type": "code",
      "metadata": {
        "id": "GQ_f8f1FcFd7"
      },
      "source": [
        ""
      ],
      "execution_count": null,
      "outputs": []
    },
    {
      "cell_type": "markdown",
      "metadata": {
        "id": "8cCeVE4fiAx7"
      },
      "source": [
        "**EX 031: Faça um programa que leia três números e mostre qual é o maior e qual é o menor.**"
      ]
    },
    {
      "cell_type": "code",
      "metadata": {
        "colab": {
          "base_uri": "https://localhost:8080/"
        },
        "id": "qWR4z2KpcFgp",
        "outputId": "43d9cab2-2f97-4da7-f45e-0e4829a95cf6"
      },
      "source": [
        "a = int(input('Primeiro valor: '))\n",
        "b = int(input('Segundo valor: '))\n",
        "c = int(input('Terceiro valor: '))\n",
        "# verificando quem é o menor.\n",
        "menor = a\n",
        "if b<a and b<c:\n",
        "  menor = b\n",
        "if c<a and c<b:\n",
        "  menor = c\n",
        "print('O menor valor digitado foi {}'.format(menor)) \n",
        "# verificando quem é o maior\n",
        "maior = a\n",
        "if b>a and b>c:\n",
        "  maior = b\n",
        "if c>a and c>b:\n",
        "  maior = c\n",
        "print('O maior valor digitado foi {}'.format(maior))     \n",
        "\n"
      ],
      "execution_count": 68,
      "outputs": [
        {
          "output_type": "stream",
          "text": [
            "Primeiro valor: 2\n",
            "Segundo valor: 545\n",
            "Terceiro valor: 4\n",
            "O menor valor digitado foi 2\n",
            "O maior valor digitado foi 545\n"
          ],
          "name": "stdout"
        }
      ]
    },
    {
      "cell_type": "code",
      "metadata": {
        "id": "YdjrnqN1cFkn"
      },
      "source": [
        ""
      ],
      "execution_count": null,
      "outputs": []
    },
    {
      "cell_type": "markdown",
      "metadata": {
        "id": "3rxJ3M7A60VP"
      },
      "source": [
        "**EX 032: Escreva um programa que pergunte o salário de um funcionário e calcule o valor do seu aumento. Para salários superiores a R$1250,00, calcule um aumento de 10%. Para os inferiores ou iguais, o aumento é de 15%.**"
      ]
    },
    {
      "cell_type": "code",
      "metadata": {
        "colab": {
          "base_uri": "https://localhost:8080/"
        },
        "id": "xfG3RVwE5-Dy",
        "outputId": "3f866a46-d0b6-41a9-8886-03e233efb424"
      },
      "source": [
        "sal = float(input('Qual o salario?: '))\n",
        "if sal <= 1250:\n",
        "  print('Quem ganhava R$ {:.2f} passa a ganhar R$ {:.2f}'.format(sal, sal + sal*15/100 ))\n",
        "else:\n",
        "  print('Quem ganhava R$ {:.2f} passa a ganhar R$ {:.2f}'.format(sal, sal + sal*10/100 ))  "
      ],
      "execution_count": 74,
      "outputs": [
        {
          "output_type": "stream",
          "text": [
            "Qual o salario?: 5000\n",
            "Quem ganhava R$ 5000.00 passa a ganhar R$ 5500.00\n"
          ],
          "name": "stdout"
        }
      ]
    },
    {
      "cell_type": "code",
      "metadata": {
        "id": "Z4DOPiM_5-G7"
      },
      "source": [
        ""
      ],
      "execution_count": null,
      "outputs": []
    },
    {
      "cell_type": "markdown",
      "metadata": {
        "id": "i616JsNm9hWL"
      },
      "source": [
        "**EX 033: Desenvolva um programa que leia o comprimento de três retas e diga ao usuário se elas podem ou não formar um triângulo.**"
      ]
    },
    {
      "cell_type": "code",
      "metadata": {
        "colab": {
          "base_uri": "https://localhost:8080/"
        },
        "id": "2vVxj-1R5-MI",
        "outputId": "537685b0-b705-4680-ea54-cefa25993497"
      },
      "source": [
        "print('-=-' * 20)\n",
        "print('Analisador de Triângulos')\n",
        "print('-=-' * 20)\n",
        "ps = float(input('Digite o primeiro segmento: '))\n",
        "ss = float(input('Digite o segundo segmento: '))\n",
        "ts = float(input('Digite o terceiro segmento: '))\n",
        "if ps < ss + ts and ss < ps + ts and ts < ps + ss:\n",
        "  print('Os segmentos acima PODEM formar um triângulo')\n",
        "else: \n",
        "  print('Os segmentos acima NAO PODEM formar um triângulo')\n"
      ],
      "execution_count": 77,
      "outputs": [
        {
          "output_type": "stream",
          "text": [
            "-=--=--=--=--=--=--=--=--=--=--=--=--=--=--=--=--=--=--=--=-\n",
            "Analisador de Triângulos\n",
            "-=--=--=--=--=--=--=--=--=--=--=--=--=--=--=--=--=--=--=--=-\n",
            "Digite o primeiro segmento: 4\n",
            "Digite o segundo segmento: 12\n",
            "Digite o terceiro segmento: 6\n",
            "Os segmentos acima NAO PODEM formar um triângulo\n"
          ],
          "name": "stdout"
        }
      ]
    },
    {
      "cell_type": "code",
      "metadata": {
        "id": "pL9D5B9C5-Om"
      },
      "source": [
        ""
      ],
      "execution_count": null,
      "outputs": []
    },
    {
      "cell_type": "code",
      "metadata": {
        "id": "yPAAQvjb5-Q2"
      },
      "source": [
        ""
      ],
      "execution_count": null,
      "outputs": []
    },
    {
      "cell_type": "code",
      "metadata": {
        "id": "TX__R6V85-S7"
      },
      "source": [
        ""
      ],
      "execution_count": null,
      "outputs": []
    },
    {
      "cell_type": "code",
      "metadata": {
        "id": "DoDrMCM0lk98"
      },
      "source": [
        ""
      ],
      "execution_count": null,
      "outputs": []
    },
    {
      "cell_type": "code",
      "metadata": {
        "id": "y3ZvO9ajllAC"
      },
      "source": [
        ""
      ],
      "execution_count": null,
      "outputs": []
    },
    {
      "cell_type": "code",
      "metadata": {
        "id": "I8t8rQ5KllEN"
      },
      "source": [
        ""
      ],
      "execution_count": null,
      "outputs": []
    },
    {
      "cell_type": "code",
      "metadata": {
        "id": "JKyTM85YllF6"
      },
      "source": [
        ""
      ],
      "execution_count": null,
      "outputs": []
    }
  ]
}